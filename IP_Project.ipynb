{
 "cells": [
  {
   "cell_type": "code",
   "execution_count": 112,
   "metadata": {},
   "outputs": [],
   "source": [
    "import numpy as np\n",
    "import pywt\n",
    "import cv2\n",
    "from pathlib import Path\n",
    "import matplotlib.pyplot as plt"
   ]
  },
  {
   "cell_type": "code",
   "execution_count": 143,
   "metadata": {},
   "outputs": [],
   "source": [
    "#calculating DWT of a class and saving as .npy numpy array\n",
    "\n",
    "directory = Path(\"C:\\\\Users\\\\dell\\\\Desktop\\\\64x64\\\\pituirity\")\n",
    "entries = directory.glob('*.png')\n",
    "dcts = directory.glob('*.npy')\n",
    "i = 0\n",
    "for img in entries:\n",
    "    name = img.name\n",
    "    image = cv2.imread('C:\\\\Users\\\\dell\\\\Desktop\\\\64x64\\\\pituirity\\\\' + name, 0)\n",
    "    coeffs = pywt.dwt2(image, 'haar')\n",
    "    cA, (cH, cV, cD) = coeffs\n",
    "    if i == 0:\n",
    "        arr = np.asarray([cA.flatten()])\n",
    "        i = i+1\n",
    "    else:\n",
    "        arr = np.append(arr, [cA.flatten()], axis=0)\n",
    "    #print(img)\n",
    "np.save('dwt_pituirity.npy', arr)"
   ]
  },
  {
   "cell_type": "code",
   "execution_count": 3,
   "metadata": {},
   "outputs": [],
   "source": [
    "i = 0;\n",
    "for img in entries.iterdir():\n",
    "    if i == 0:\n",
    "        arr = np.asarray(img.name)\n",
    "        i = i+1\n",
    "    else:\n",
    "        arr = np.append(arr, img.name)\n",
    "\n",
    "np.save('arr2.npy', arr)"
   ]
  },
  {
   "cell_type": "code",
   "execution_count": 4,
   "metadata": {},
   "outputs": [],
   "source": [
    "array = np.load('arr.npy')\n",
    "array2 = np.load('arr2.npy')"
   ]
  },
  {
   "cell_type": "code",
   "execution_count": 101,
   "metadata": {},
   "outputs": [
    {
     "name": "stdout",
     "output_type": "stream",
     "text": [
      "2.0---88670-i791.png\n",
      "2.0---88670-i792.png\n",
      "2.0---88670-i793.png\n",
      "2.0---88670-i794.png\n",
      "2.0---88670-i795.png\n",
      "2.0---88670-i796.png\n",
      "2.0---88670-i797.png\n",
      "2.0---88670-i864.png\n",
      "2.0---88670-i865.png\n",
      "2.0---88670-i866.png\n",
      "2.0---90284-i801.png\n",
      "2.0---90284-i802.png\n",
      "2.0---90284-i803.png\n",
      "2.0---90284-i804.png\n",
      "2.0---90284-i805.png\n",
      "2.0---90284-i869.png\n",
      "2.0---90284-i870.png\n",
      "2.0---90284-i871.png\n",
      "2.0---90284-i872.png\n",
      "2.0---90284-i873.png\n"
     ]
    }
   ],
   "source": [
    "for img in entries:\n",
    "    name = img.name\n",
    "    #image = cv2.imread(img)\n",
    "    #print(image.shape)\n",
    "    print(name)"
   ]
  },
  {
   "cell_type": "code",
   "execution_count": 6,
   "metadata": {},
   "outputs": [],
   "source": [
    "arr = np.concatenate(([array], [array2]), axis = 0)"
   ]
  },
  {
   "cell_type": "code",
   "execution_count": 144,
   "metadata": {},
   "outputs": [
    {
     "data": {
      "text/plain": [
       "(20, 1024)"
      ]
     },
     "execution_count": 144,
     "metadata": {},
     "output_type": "execute_result"
    }
   ],
   "source": [
    "array = np.load('dwt_gliomia.npy')\n",
    "array.shape"
   ]
  },
  {
   "cell_type": "code",
   "execution_count": 135,
   "metadata": {},
   "outputs": [],
   "source": [
    "import pywt\n",
    "import numpy as np\n",
    "import cv2\n",
    "from pathlib import Path"
   ]
  },
  {
   "cell_type": "code",
   "execution_count": 71,
   "metadata": {},
   "outputs": [],
   "source": [
    "i = cv2.imread('C:\\\\Users\\\\dell\\\\Desktop\\\\g.jpg', 0)\n",
    "i = cv2.resize(i,(64,64), interpolation = cv2.INTER_AREA)"
   ]
  },
  {
   "cell_type": "code",
   "execution_count": 72,
   "metadata": {},
   "outputs": [],
   "source": [
    "coeffs = pywt.dwt2(i, 'haar')"
   ]
  },
  {
   "cell_type": "code",
   "execution_count": 73,
   "metadata": {},
   "outputs": [],
   "source": [
    "cA, (cH, cV, cD) = coeffs\n",
    "#coeffs = pywt.dwt2(cA, 'haar')\n",
    "#cA, (cH, cV, cD) = coeffs"
   ]
  },
  {
   "cell_type": "code",
   "execution_count": 74,
   "metadata": {},
   "outputs": [
    {
     "data": {
      "text/plain": [
       "<matplotlib.image.AxesImage at 0x1ad50419f48>"
      ]
     },
     "execution_count": 74,
     "metadata": {},
     "output_type": "execute_result"
    },
    {
     "data": {
      "image/png": "[encoded data removed]",
      "text/plain": [
       "<Figure size 432x288 with 1 Axes>"
      ]
     },
     "metadata": {
      "needs_background": "light"
     },
     "output_type": "display_data"
    }
   ],
   "source": [
    "plt.imshow(cA, cmap='gray')"
   ]
  },
  {
   "cell_type": "code",
   "execution_count": 67,
   "metadata": {},
   "outputs": [
    {
     "data": {
      "text/plain": [
       "<matplotlib.image.AxesImage at 0x1ad502cbd88>"
      ]
     },
     "execution_count": 67,
     "metadata": {},
     "output_type": "execute_result"
    },
    {
     "data": {
      "image/png": "[encoded data removed]",
      "text/plain": [
       "<Figure size 432x288 with 1 Axes>"
      ]
     },
     "metadata": {
      "needs_background": "light"
     },
     "output_type": "display_data"
    }
   ],
   "source": [
    "plt.imshow(cH, cmap='gray')"
   ]
  },
  {
   "cell_type": "code",
   "execution_count": 68,
   "metadata": {},
   "outputs": [
    {
     "data": {
      "text/plain": [
       "<matplotlib.image.AxesImage at 0x1ad50336e08>"
      ]
     },
     "execution_count": 68,
     "metadata": {},
     "output_type": "execute_result"
    },
    {
     "data": {
      "image/png": "[encoded data removed]",
      "text/plain": [
       "<Figure size 432x288 with 1 Axes>"
      ]
     },
     "metadata": {
      "needs_background": "light"
     },
     "output_type": "display_data"
    }
   ],
   "source": [
    "plt.imshow(cV, cmap='gray')"
   ]
  },
  {
   "cell_type": "code",
   "execution_count": 69,
   "metadata": {},
   "outputs": [
    {
     "data": {
      "text/plain": [
       "<matplotlib.image.AxesImage at 0x1ad503ab348>"
      ]
     },
     "execution_count": 69,
     "metadata": {},
     "output_type": "execute_result"
    },
    {
     "data": {
      "image/png": "[encoded data removed]",
      "text/plain": [
       "<Figure size 432x288 with 1 Axes>"
      ]
     },
     "metadata": {
      "needs_background": "light"
     },
     "output_type": "display_data"
    }
   ],
   "source": [
    "plt.imshow(cD, cmap='gray')"
   ]
  },
  {
   "cell_type": "code",
   "execution_count": 75,
   "metadata": {},
   "outputs": [
    {
     "data": {
      "text/plain": [
       "(32, 32)"
      ]
     },
     "execution_count": 75,
     "metadata": {},
     "output_type": "execute_result"
    }
   ],
   "source": [
    "cA.shape"
   ]
  },
  {
   "cell_type": "code",
   "execution_count": null,
   "metadata": {},
   "outputs": [],
   "source": []
  }
 ],
 "metadata": {
  "kernelspec": {
   "display_name": "Python 3",
   "language": "python",
   "name": "python3"
  },
  "language_info": {
   "codemirror_mode": {
    "name": "ipython",
    "version": 3
   },
   "file_extension": ".py",
   "mimetype": "text/x-python",
   "name": "python",
   "nbconvert_exporter": "python",
   "pygments_lexer": "ipython3",
   "version": "3.7.4"
  }
 },
 "nbformat": 4,
 "nbformat_minor": 4
}
