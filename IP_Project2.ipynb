{
 "cells": [
  {
   "cell_type": "code",
   "execution_count": 1,
   "metadata": {},
   "outputs": [],
   "source": [
    "import numpy as np\n",
    "import matplotlib.pyplot as plt\n",
    "import scipy\n",
    "import os\n",
    "from pathlib import Path\n",
    "from sklearn import svm\n",
    "from sklearn.model_selection import train_test_split\n",
    "from sklearn import metrics\n",
    "from numpy import pi\n",
    "from numpy import sin\n",
    "from numpy import zeros\n",
    "from numpy import r_\n",
    "from scipy import signal\n",
    "from scipy import misc # pip install Pillow\n",
    "import matplotlib.pylab as pylab\n",
    "import PIL\n",
    "%matplotlib inline\n"
   ]
  },
  {
   "cell_type": "code",
   "execution_count": 8,
   "metadata": {},
   "outputs": [
    {
     "name": "stderr",
     "output_type": "stream",
     "text": [
      "C:\\Users\\dell\\Anaconda3\\envs\\myenv\\lib\\site-packages\\ipykernel_launcher.py:5: DeprecationWarning: `imread` is deprecated!\n",
      "`imread` is deprecated in SciPy 1.0.0, and will be removed in 1.2.0.\n",
      "Use ``imageio.imread`` instead.\n",
      "  \"\"\"\n"
     ]
    }
   ],
   "source": [
    "# dct and idct functions declaration\n",
    "\n",
    "pylab.rcParams['figure.figsize'] = (20.0, 7.0)\n",
    "\n",
    "def dct2(a):\n",
    "    return scipy.fftpack.dct( scipy.fftpack.dct( a, axis=0, norm='ortho' ), axis=1, norm='ortho' )\n",
    "\n",
    "def idct2(a):\n",
    "    return scipy.fftpack.idct( scipy.fftpack.idct( a, axis=0 , norm='ortho'), axis=1 , norm='ortho')\n",
    "\n",
    "\n",
    "# computing DCT features of one group and storing in a .npy file for later concatination\n",
    "\n",
    "entries = Path('C:\\\\Users\\\\dell\\\\Desktop\\\\IP Project\\\\To Detect\\\\menigiomia')\n",
    "i = 0\n",
    "for entry in entries.iterdir():\n",
    "    filename, _ = os.path.splitext(entry.name)\n",
    "    im = misc.imread('C:\\\\Users\\\\dell\\\\Desktop\\\\IP Project\\\\To Detect\\\\menigiomia\\\\'+filename+'.jpg')\n",
    "    imsize = im.shape\n",
    "    dct = np.zeros(imsize)\n",
    "    for i in r_[:imsize[0]:8]:\n",
    "        for j in r_[:imsize[1]:8]:\n",
    "            dct[i:(i+8),j:(j+8)] = dct2( im[i:(i+8),j:(j+8)] )\n",
    "    \n",
    "    np.save('C:\\\\Users\\\\dell\\\\Desktop\\\\IP Project\\\\To Detect\\\\menigiomia\\\\'+filename+'.npy', dct)\n",
    "    #if i == 0:\n",
    "    #    features = dct\n",
    "    #    i = 5\n",
    "    #else:\n",
    "    #    features = np.concatenate(([features], [dct]), axis = 0)\n",
    "    #np.save('C:\\\\Users\\\\dell\\\\Desktop\\\\resized\\\\pituirity\\\\'+filename+'.npy',dct)\n",
    "    #if np.load('C:\\\\Users\\\\dell\\\\Desktop\\\\resized\\\\dct_features.npy') is non:"
   ]
  },
  {
   "cell_type": "code",
   "execution_count": 55,
   "metadata": {},
   "outputs": [
    {
     "data": {
      "text/plain": [
       "(512, 512)"
      ]
     },
     "execution_count": 55,
     "metadata": {},
     "output_type": "execute_result"
    }
   ],
   "source": [
    "dct.shape"
   ]
  },
  {
   "cell_type": "code",
   "execution_count": 2,
   "metadata": {},
   "outputs": [],
   "source": []
  },
  {
   "cell_type": "code",
   "execution_count": 77,
   "metadata": {},
   "outputs": [],
   "source": [
    "np.load('C:\\\\Users\\\\dell\\\\Desktop\\\\resized\\\\pituirity\\\\3.0---97481-i1588.npy')\n",
    "np.savetxt(\"C:\\\\Users\\\\dell\\\\Desktop\\\\resized\\\\features32.txt\" ,b ,fmt='%3.4f' , delimiter=' ',newline=' ')"
   ]
  },
  {
   "cell_type": "code",
   "execution_count": 40,
   "metadata": {},
   "outputs": [
    {
     "data": {
      "text/plain": [
       "Text(0.5, 1.0, '8x8 DCTs of the image')"
      ]
     },
     "execution_count": 40,
     "metadata": {},
     "output_type": "execute_result"
    },
    {
     "data": {
      "image/png": "[encoded data removed]",
      "text/plain": [
       "<Figure size 1440x504 with 1 Axes>"
      ]
     },
     "metadata": {
      "needs_background": "light"
     },
     "output_type": "display_data"
    }
   ],
   "source": [
    "# Display entire DCT\n",
    "plt.figure()\n",
    "plt.imshow(dct,cmap='gray',vmax = np.max(dct)*0.01,vmin = 0)\n",
    "plt.title( \"8x8 DCTs of the image\")"
   ]
  },
  {
   "cell_type": "code",
   "execution_count": 41,
   "metadata": {},
   "outputs": [
    {
     "data": {
      "text/plain": [
       "numpy.ndarray"
      ]
     },
     "execution_count": 41,
     "metadata": {},
     "output_type": "execute_result"
    }
   ],
   "source": [
    "type(dct)"
   ]
  },
  {
   "cell_type": "code",
   "execution_count": null,
   "metadata": {},
   "outputs": [],
   "source": []
  },
  {
   "cell_type": "code",
   "execution_count": null,
   "metadata": {},
   "outputs": [],
   "source": []
  },
  {
   "cell_type": "code",
   "execution_count": null,
   "metadata": {},
   "outputs": [],
   "source": [
    "from sklearn.svm import SVC\n",
    "svclassifier = SVC(kernel='linear')\n",
    "svclassifier.fit(X_train, y_train)"
   ]
  },
  {
   "cell_type": "code",
   "execution_count": 46,
   "metadata": {},
   "outputs": [
    {
     "name": "stdout",
     "output_type": "stream",
     "text": [
      "(20, 4096)\n"
     ]
    }
   ],
   "source": [
    "pos = 8\n",
    "# Extract a block from imagge\n",
    "plt.figure()\n",
    "plt.imshow(im[pos:pos+8,pos:pos+8],cmap='gray')\n",
    "plt.title( \"An 8x8 Image block\")\n",
    "# Display the dct of that block\n",
    "plt.figure()\n",
    "plt.imshow(dct[pos:pos+8,pos:pos+8],cmap='gray',vmax= np.max(dct)*0.01,vmin = 0, extent=[0,pi,pi,0])\n",
    "plt.title( \"An 8x8 DCT block\")"
   ]
  },
  {
   "cell_type": "code",
   "execution_count": 76,
   "metadata": {},
   "outputs": [
    {
     "name": "stdout",
     "output_type": "stream",
     "text": [
      "(60, 262144)\n"
     ]
    }
   ],
   "source": [
    "features = np.zeros((60, 262144), dtype=np.float32)\n",
    "entries = list(Path('C:\\\\Users\\\\dell\\\\Desktop\\\\resized\\\\giomia').glob('*npy'))\n",
    "i = 0;\n",
    "for entry in entries:\n",
    "    array = np.load(entry).flatten()\n",
    "    features[i] = array\n",
    "    i += 1\n",
    "    #features = np.append(features,[array])\n",
    "print(features.shape)"
   ]
  },
  {
   "cell_type": "code",
   "execution_count": 11,
   "metadata": {},
   "outputs": [
    {
     "name": "stdout",
     "output_type": "stream",
     "text": [
      "(60, 4096)\n",
      "20\n",
      "20\n",
      "20\n",
      "(60, 262144)\n"
     ]
    }
   ],
   "source": [
    "#loading and combining all feautes of all three groups into one vector 'feauture'\n",
    "\n",
    "feature = np.empty((60,4096))\n",
    "print(feature.shape)\n",
    "i = 0\n",
    "entries = list(Path('C:\\\\Users\\\\dell\\\\Desktop\\\\IP Project\\\\To Detect\\\\giomia').glob('*npy'))\n",
    "print(len(entries))\n",
    "i = 0;\n",
    "for img in entries:\n",
    "    arr = np.load(img).flatten()\n",
    "    if i == 0:\n",
    "        feature = [np.asarray(arr)]\n",
    "        i = i+1\n",
    "    else:\n",
    "        feature = np.append(feature, [arr], axis=0)\n",
    "    i += 1\n",
    "entries = list(Path('C:\\\\Users\\\\dell\\\\Desktop\\\\IP Project\\\\To Detect\\\\menigiomia').glob('*npy'))\n",
    "print(len(entries))\n",
    "for img in entries:\n",
    "    arr = np.load(img).flatten()\n",
    "    feature = np.append(feature, [arr], axis=0)\n",
    "entries = list(Path('C:\\\\Users\\\\dell\\\\Desktop\\\\IP Project\\\\To Detect\\\\pituirity').glob('*npy'))\n",
    "print(len(entries))\n",
    "i = 0;\n",
    "for img in entries:\n",
    "    arr = np.load(img).flatten()\n",
    "    feature = np.append(feature, [arr], axis=0)\n",
    "print(feature.shape)"
   ]
  },
  {
   "cell_type": "code",
   "execution_count": 78,
   "metadata": {},
   "outputs": [
    {
     "name": "stdout",
     "output_type": "stream",
     "text": [
      "(60, 262144)\n"
     ]
    }
   ],
   "source": [
    "dct = list(Path('C:\\\\Users\\\\dell\\\\Desktop\\\\resized\\\\pituirity').glob('*npy'))\n",
    "dwt = list(Path('C:\\\\Users\\\\dell\\\\Desktop\\\\resized\\\\pituirity').glob('*npy'))\n",
    "i = 40;\n",
    "for entry in entries:\n",
    "    array = np.load(entry).flatten()\n",
    "    features[i] = array\n",
    "    i += 1\n",
    "    #features = np.append(features,[array])\n",
    "print(features.shape)"
   ]
  },
  {
   "cell_type": "code",
   "execution_count": 13,
   "metadata": {},
   "outputs": [],
   "source": [
    "# declaring class' labels \n",
    "\n",
    "classes = ['Giomia', 'Giomia', 'Giomia', 'Giomia', 'Giomia', 'Giomia', 'Giomia', 'Giomia', 'Giomia', 'Giomia', \n",
    "           'Giomia', 'Giomia', 'Giomia', 'Giomia', 'Giomia', 'Giomia', 'Giomia', 'Giomia', 'Giomia', 'Giomia',\n",
    "           'Menigiomia', 'Menigiomia', 'Menigiomia', 'Menigiomia', 'Menigiomia', 'Menigiomia', 'Menigiomia', 'Menigiomia', 'Menigiomia', 'Menigiomia',\n",
    "           'Menigiomia', 'Menigiomia', 'Menigiomia', 'Menigiomia', 'Menigiomia', 'Menigiomia', 'Menigiomia', 'Menigiomia', 'Menigiomia', 'Menigiomia',\n",
    "           'Pituirity', 'Pituirity', 'Pituirity', 'Pituirity', 'Pituirity', 'Pituirity', 'Pituirity', 'Pituirity', 'Pituirity', 'Pituirity', \n",
    "          'Pituirity', 'Pituirity', 'Pituirity', 'Pituirity', 'Pituirity', 'Pituirity', 'Pituirity', 'Pituirity', 'Pituirity', 'Pituirity']"
   ]
  },
  {
   "cell_type": "code",
   "execution_count": 27,
   "metadata": {},
   "outputs": [
    {
     "data": {
      "text/plain": [
       "60"
      ]
     },
     "execution_count": 27,
     "metadata": {},
     "output_type": "execute_result"
    }
   ],
   "source": [
    "# loading features and labels\n",
    "\n",
    "for i in range(20):\n",
    "    classes[i] = 'Gliomia';\n",
    "    \n",
    "for i in range(20):\n",
    "    classes[20+i] = 'Menigiomia';\n",
    "    \n",
    "for i in range(20):\n",
    "    classes[40+i] = 'Pituirity';\n",
    "features = np.load('combined_features.npy')\n",
    "len(classes)"
   ]
  },
  {
   "cell_type": "code",
   "execution_count": 174,
   "metadata": {},
   "outputs": [
    {
     "name": "stdout",
     "output_type": "stream",
     "text": [
      "['Gliomia', 'Gliomia', 'Gliomia', 'Gliomia', 'Gliomia', 'Gliomia', 'Gliomia', 'Gliomia', 'Gliomia', 'Gliomia', 'Gliomia', 'Gliomia', 'Gliomia', 'Gliomia', 'Gliomia', 'Gliomia', 'Gliomia', 'Gliomia', 'Gliomia', 'Gliomia', 'Menigiomia', 'Menigiomia', 'Menigiomia', 'Menigiomia', 'Menigiomia', 'Menigiomia', 'Menigiomia', 'Menigiomia', 'Menigiomia', 'Menigiomia', 'Menigiomia', 'Menigiomia', 'Menigiomia', 'Menigiomia', 'Menigiomia', 'Menigiomia', 'Menigiomia', 'Menigiomia', 'Menigiomia', 'Menigiomia', 'Pituirity', 'Pituirity', 'Pituirity', 'Pituirity', 'Pituirity', 'Pituirity', 'Pituirity', 'Pituirity', 'Pituirity', 'Pituirity', 'Pituirity', 'Pituirity', 'Pituirity', 'Pituirity', 'Pituirity', 'Pituirity', 'Pituirity', 'Pituirity', 'Pituirity', 'Pituirity']\n"
     ]
    },
    {
     "data": {
      "text/plain": [
       "(60, 4096)"
      ]
     },
     "execution_count": 174,
     "metadata": {},
     "output_type": "execute_result"
    }
   ],
   "source": [
    "print(classes)\n",
    "features.shape"
   ]
  },
  {
   "cell_type": "code",
   "execution_count": 293,
   "metadata": {},
   "outputs": [],
   "source": []
  },
  {
   "cell_type": "code",
   "execution_count": 35,
   "metadata": {},
   "outputs": [
    {
     "name": "stdout",
     "output_type": "stream",
     "text": [
      "Accuracy: 0.9583333333333334\n"
     ]
    }
   ],
   "source": [
    "# spliting dataset and training\n",
    "\n",
    "X_train, X_test, y_train, y_test = train_test_split(features, classes, test_size=0.40, random_state=22)\n",
    "#Create a svm Classifier\n",
    "clf = svm.SVC(kernel='linear', gamma = 'scale') # Linear Kernel\n",
    "\n",
    "#Train the model using the training sets\n",
    "clf.fit(X_train, y_train)\n",
    "\n",
    "#Predict the response for test dataset\n",
    "y_pred = clf.predict(X_test)\n",
    "\n",
    "# Model Accuracy: how often is the classifier correct?\n",
    "print(\"Accuracy:\",metrics.accuracy_score(y_test, y_pred))"
   ]
  },
  {
   "cell_type": "code",
   "execution_count": null,
   "metadata": {},
   "outputs": [],
   "source": []
  },
  {
   "cell_type": "code",
   "execution_count": 36,
   "metadata": {},
   "outputs": [
    {
     "name": "stdout",
     "output_type": "stream",
     "text": [
      "[[10  0  0]\n",
      " [ 0  7  0]\n",
      " [ 0  1  6]]\n",
      "              precision    recall  f1-score   support\n",
      "\n",
      "     Gliomia       1.00      1.00      1.00        10\n",
      "  Menigiomia       0.88      1.00      0.93         7\n",
      "   Pituirity       1.00      0.86      0.92         7\n",
      "\n",
      "    accuracy                           0.96        24\n",
      "   macro avg       0.96      0.95      0.95        24\n",
      "weighted avg       0.96      0.96      0.96        24\n",
      "\n"
     ]
    }
   ],
   "source": [
    "\n",
    "from sklearn.metrics import classification_report, confusion_matrix\n",
    "print(confusion_matrix(y_test, y_pred))\n",
    "print(classification_report(y_test, y_pred))"
   ]
  },
  {
   "cell_type": "code",
   "execution_count": null,
   "metadata": {},
   "outputs": [],
   "source": []
  },
  {
   "cell_type": "code",
   "execution_count": null,
   "metadata": {},
   "outputs": [],
   "source": []
  },
  {
   "cell_type": "code",
   "execution_count": 38,
   "metadata": {},
   "outputs": [
    {
     "data": {
      "text/plain": [
       "Text(0.5, 1, 'Confusion Matrix')"
      ]
     },
     "execution_count": 38,
     "metadata": {},
     "output_type": "execute_result"
    },
    {
     "data": {
      "image/png": "[encoded data removed]",
      "text/plain": [
       "<Figure size 720x576 with 2 Axes>"
      ]
     },
     "metadata": {
      "needs_background": "light"
     },
     "output_type": "display_data"
    }
   ],
   "source": [
    "import seaborn as sns\n",
    "index = ['Gliomia','Menigiomia', 'Pituirity']  \n",
    "#columns = ['APT 1','APT 10', 'APT 19','APT 21','APT 28','APT 29','APT 30','Dark Hotel', 'Energetic Bear', 'Equation Group', 'Gorgon Gruop', 'Winnti']  \n",
    "#cm_df = pd.DataFrame(cm,columns,index)                      \n",
    "\n",
    "matrix = confusion_matrix(y_test, y_pred)\n",
    "fig, ax = plt.subplots(figsize=(10,8))\n",
    "sns.heatmap(matrix,annot=True, cmap='magma', fmt='d', ax = ax, vmin=0, vmax=10, xticklabels=index, yticklabels=index)\n",
    "plt.ylabel('True Label')\n",
    "plt.xlabel('Predicted Label')\n",
    "plt.title('Confusion Matrix')"
   ]
  },
  {
   "cell_type": "code",
   "execution_count": 320,
   "metadata": {},
   "outputs": [
    {
     "name": "stdout",
     "output_type": "stream",
     "text": [
      "12\n"
     ]
    },
    {
     "ename": "IndexError",
     "evalue": "too many indices for array",
     "output_type": "error",
     "traceback": [
      "\u001b[1;31m---------------------------------------------------------------------------\u001b[0m",
      "\u001b[1;31mIndexError\u001b[0m                                Traceback (most recent call last)",
      "\u001b[1;32m<ipython-input-320-5f07a8f18c07>\u001b[0m in \u001b[0;36m<module>\u001b[1;34m\u001b[0m\n\u001b[0;32m      3\u001b[0m \u001b[0mprint\u001b[0m\u001b[1;33m(\u001b[0m\u001b[0mlen\u001b[0m\u001b[1;33m(\u001b[0m\u001b[0my_test\u001b[0m\u001b[1;33m)\u001b[0m\u001b[1;33m)\u001b[0m\u001b[1;33m\u001b[0m\u001b[1;33m\u001b[0m\u001b[0m\n\u001b[0;32m      4\u001b[0m \u001b[0my_pred2\u001b[0m \u001b[1;33m=\u001b[0m \u001b[0my_pred\u001b[0m\u001b[1;33m.\u001b[0m\u001b[0mflatten\u001b[0m\u001b[1;33m(\u001b[0m\u001b[1;33m)\u001b[0m\u001b[1;33m\u001b[0m\u001b[1;33m\u001b[0m\u001b[0m\n\u001b[1;32m----> 5\u001b[1;33m \u001b[0mskplt\u001b[0m\u001b[1;33m.\u001b[0m\u001b[0mmetrics\u001b[0m\u001b[1;33m.\u001b[0m\u001b[0mplot_roc_curve\u001b[0m\u001b[1;33m(\u001b[0m\u001b[0my_true\u001b[0m\u001b[1;33m,\u001b[0m \u001b[0my_pred2\u001b[0m\u001b[1;33m)\u001b[0m\u001b[1;33m\u001b[0m\u001b[1;33m\u001b[0m\u001b[0m\n\u001b[0m\u001b[0;32m      6\u001b[0m \u001b[0mplt\u001b[0m\u001b[1;33m.\u001b[0m\u001b[0mshow\u001b[0m\u001b[1;33m(\u001b[0m\u001b[1;33m)\u001b[0m\u001b[1;33m\u001b[0m\u001b[1;33m\u001b[0m\u001b[0m\n",
      "\u001b[1;32m~\\Anaconda3\\envs\\myenv\\lib\\site-packages\\sklearn\\utils\\deprecation.py\u001b[0m in \u001b[0;36mwrapped\u001b[1;34m(*args, **kwargs)\u001b[0m\n\u001b[0;32m     86\u001b[0m         \u001b[1;32mdef\u001b[0m \u001b[0mwrapped\u001b[0m\u001b[1;33m(\u001b[0m\u001b[1;33m*\u001b[0m\u001b[0margs\u001b[0m\u001b[1;33m,\u001b[0m \u001b[1;33m**\u001b[0m\u001b[0mkwargs\u001b[0m\u001b[1;33m)\u001b[0m\u001b[1;33m:\u001b[0m\u001b[1;33m\u001b[0m\u001b[1;33m\u001b[0m\u001b[0m\n\u001b[0;32m     87\u001b[0m             \u001b[0mwarnings\u001b[0m\u001b[1;33m.\u001b[0m\u001b[0mwarn\u001b[0m\u001b[1;33m(\u001b[0m\u001b[0mmsg\u001b[0m\u001b[1;33m,\u001b[0m \u001b[0mcategory\u001b[0m\u001b[1;33m=\u001b[0m\u001b[0mFutureWarning\u001b[0m\u001b[1;33m)\u001b[0m\u001b[1;33m\u001b[0m\u001b[1;33m\u001b[0m\u001b[0m\n\u001b[1;32m---> 88\u001b[1;33m             \u001b[1;32mreturn\u001b[0m \u001b[0mfun\u001b[0m\u001b[1;33m(\u001b[0m\u001b[1;33m*\u001b[0m\u001b[0margs\u001b[0m\u001b[1;33m,\u001b[0m \u001b[1;33m**\u001b[0m\u001b[0mkwargs\u001b[0m\u001b[1;33m)\u001b[0m\u001b[1;33m\u001b[0m\u001b[1;33m\u001b[0m\u001b[0m\n\u001b[0m\u001b[0;32m     89\u001b[0m \u001b[1;33m\u001b[0m\u001b[0m\n\u001b[0;32m     90\u001b[0m         \u001b[0mwrapped\u001b[0m\u001b[1;33m.\u001b[0m\u001b[0m__doc__\u001b[0m \u001b[1;33m=\u001b[0m \u001b[0mself\u001b[0m\u001b[1;33m.\u001b[0m\u001b[0m_update_doc\u001b[0m\u001b[1;33m(\u001b[0m\u001b[0mwrapped\u001b[0m\u001b[1;33m.\u001b[0m\u001b[0m__doc__\u001b[0m\u001b[1;33m)\u001b[0m\u001b[1;33m\u001b[0m\u001b[1;33m\u001b[0m\u001b[0m\n",
      "\u001b[1;32m~\\Anaconda3\\envs\\myenv\\lib\\site-packages\\scikitplot\\metrics.py\u001b[0m in \u001b[0;36mplot_roc_curve\u001b[1;34m(y_true, y_probas, title, curves, ax, figsize, cmap, title_fontsize, text_fontsize)\u001b[0m\n\u001b[0;32m    255\u001b[0m     \u001b[0mroc_auc\u001b[0m \u001b[1;33m=\u001b[0m \u001b[0mdict\u001b[0m\u001b[1;33m(\u001b[0m\u001b[1;33m)\u001b[0m\u001b[1;33m\u001b[0m\u001b[1;33m\u001b[0m\u001b[0m\n\u001b[0;32m    256\u001b[0m     \u001b[1;32mfor\u001b[0m \u001b[0mi\u001b[0m \u001b[1;32min\u001b[0m \u001b[0mrange\u001b[0m\u001b[1;33m(\u001b[0m\u001b[0mlen\u001b[0m\u001b[1;33m(\u001b[0m\u001b[0mclasses\u001b[0m\u001b[1;33m)\u001b[0m\u001b[1;33m)\u001b[0m\u001b[1;33m:\u001b[0m\u001b[1;33m\u001b[0m\u001b[1;33m\u001b[0m\u001b[0m\n\u001b[1;32m--> 257\u001b[1;33m         fpr[i], tpr[i], _ = roc_curve(y_true, probas[:, i],\n\u001b[0m\u001b[0;32m    258\u001b[0m                                       pos_label=classes[i])\n\u001b[0;32m    259\u001b[0m         \u001b[0mroc_auc\u001b[0m\u001b[1;33m[\u001b[0m\u001b[0mi\u001b[0m\u001b[1;33m]\u001b[0m \u001b[1;33m=\u001b[0m \u001b[0mauc\u001b[0m\u001b[1;33m(\u001b[0m\u001b[0mfpr\u001b[0m\u001b[1;33m[\u001b[0m\u001b[0mi\u001b[0m\u001b[1;33m]\u001b[0m\u001b[1;33m,\u001b[0m \u001b[0mtpr\u001b[0m\u001b[1;33m[\u001b[0m\u001b[0mi\u001b[0m\u001b[1;33m]\u001b[0m\u001b[1;33m)\u001b[0m\u001b[1;33m\u001b[0m\u001b[1;33m\u001b[0m\u001b[0m\n",
      "\u001b[1;31mIndexError\u001b[0m: too many indices for array"
     ]
    }
   ],
   "source": [
    "import scikitplot as skplt\n",
    "import matplotlib.pyplot as plt\n",
    "print(len(y_test))\n",
    "y_pred2 = y_pred.flatten()\n",
    "skplt.metrics.plot_roc_curve(y_true, y_pred2)\n",
    "plt.show()"
   ]
  },
  {
   "cell_type": "code",
   "execution_count": 327,
   "metadata": {},
   "outputs": [
    {
     "ename": "TypeError",
     "evalue": "list indices must be integers or slices, not tuple",
     "output_type": "error",
     "traceback": [
      "\u001b[1;31m---------------------------------------------------------------------------\u001b[0m",
      "\u001b[1;31mTypeError\u001b[0m                                 Traceback (most recent call last)",
      "\u001b[1;32m<ipython-input-327-e32f90058528>\u001b[0m in \u001b[0;36m<module>\u001b[1;34m\u001b[0m\n\u001b[0;32m      3\u001b[0m \u001b[0mroc_auc\u001b[0m \u001b[1;33m=\u001b[0m \u001b[0mdict\u001b[0m\u001b[1;33m(\u001b[0m\u001b[1;33m)\u001b[0m\u001b[1;33m\u001b[0m\u001b[1;33m\u001b[0m\u001b[0m\n\u001b[0;32m      4\u001b[0m \u001b[1;32mfor\u001b[0m \u001b[0mi\u001b[0m \u001b[1;32min\u001b[0m \u001b[0mrange\u001b[0m\u001b[1;33m(\u001b[0m\u001b[1;36m3\u001b[0m\u001b[1;33m)\u001b[0m\u001b[1;33m:\u001b[0m\u001b[1;33m\u001b[0m\u001b[1;33m\u001b[0m\u001b[0m\n\u001b[1;32m----> 5\u001b[1;33m     \u001b[0mfpr\u001b[0m\u001b[1;33m[\u001b[0m\u001b[0mi\u001b[0m\u001b[1;33m]\u001b[0m\u001b[1;33m,\u001b[0m \u001b[0mtpr\u001b[0m\u001b[1;33m[\u001b[0m\u001b[0mi\u001b[0m\u001b[1;33m]\u001b[0m\u001b[1;33m,\u001b[0m \u001b[0m_\u001b[0m \u001b[1;33m=\u001b[0m \u001b[0mmetrics\u001b[0m\u001b[1;33m.\u001b[0m\u001b[0mroc_curve\u001b[0m\u001b[1;33m(\u001b[0m\u001b[0my_test\u001b[0m\u001b[1;33m[\u001b[0m\u001b[1;33m:\u001b[0m\u001b[1;33m,\u001b[0m \u001b[0mi\u001b[0m\u001b[1;33m]\u001b[0m\u001b[1;33m,\u001b[0m \u001b[0my_score\u001b[0m\u001b[1;33m[\u001b[0m\u001b[1;33m:\u001b[0m\u001b[1;33m,\u001b[0m \u001b[0mi\u001b[0m\u001b[1;33m]\u001b[0m\u001b[1;33m)\u001b[0m\u001b[1;33m\u001b[0m\u001b[1;33m\u001b[0m\u001b[0m\n\u001b[0m\u001b[0;32m      6\u001b[0m     \u001b[0mroc_auc\u001b[0m\u001b[1;33m[\u001b[0m\u001b[0mi\u001b[0m\u001b[1;33m]\u001b[0m \u001b[1;33m=\u001b[0m \u001b[0mauc\u001b[0m\u001b[1;33m(\u001b[0m\u001b[0mfpr\u001b[0m\u001b[1;33m[\u001b[0m\u001b[0mi\u001b[0m\u001b[1;33m]\u001b[0m\u001b[1;33m,\u001b[0m \u001b[0mtpr\u001b[0m\u001b[1;33m[\u001b[0m\u001b[0mi\u001b[0m\u001b[1;33m]\u001b[0m\u001b[1;33m)\u001b[0m\u001b[1;33m\u001b[0m\u001b[1;33m\u001b[0m\u001b[0m\n\u001b[0;32m      7\u001b[0m \u001b[1;33m\u001b[0m\u001b[0m\n",
      "\u001b[1;31mTypeError\u001b[0m: list indices must be integers or slices, not tuple"
     ]
    }
   ],
   "source": [
    "fpr = dict()\n",
    "tpr = dict()\n",
    "roc_auc = dict()\n",
    "for i in range(3):\n",
    "    fpr[i], tpr[i], _ = metrics.roc_curve(y_test[:, i], y_score[:, i])\n",
    "    roc_auc[i] = auc(fpr[i], tpr[i])\n",
    "\n",
    "# Compute micro-average ROC curve and ROC area\n",
    "fpr[\"micro\"], tpr[\"micro\"], _ = metrics.roc_curve(y_test.ravel(), y_score.ravel())\n",
    "roc_auc[\"micro\"] = auc(fpr[\"micro\"], tpr[\"micro\"])\n",
    "\n",
    "# Plot of a ROC curve for a specific class\n",
    "plt.figure()\n",
    "plt.plot(fpr[2], tpr[2], label='ROC curve (area = %0.2f)' % roc_auc[2])\n",
    "plt.plot([0, 1], [0, 1], 'k--')\n",
    "plt.xlim([0.0, 1.0])\n",
    "plt.ylim([0.0, 1.05])\n",
    "plt.xlabel('False Positive Rate')\n",
    "plt.ylabel('True Positive Rate')\n",
    "plt.title('Receiver operating characteristic example')\n",
    "plt.legend(loc=\"lower right\")\n",
    "plt.show()"
   ]
  },
  {
   "cell_type": "code",
   "execution_count": 66,
   "metadata": {},
   "outputs": [],
   "source": [
    "#concatenating both dct and dwt features\n",
    "i = 0\n",
    "feature = np.empty((20,4096))\n",
    "dct = list(Path('C:\\\\Users\\\\dell\\\\Desktop\\\\dct\\\\giomia').glob('*npy'))\n",
    "for entry in dct:\n",
    "    array = np.load(entry).flatten()\n",
    "    feature[i] = np.append(array, dwt_arr[i,:])\n",
    "    i += 1"
   ]
  },
  {
   "cell_type": "code",
   "execution_count": 57,
   "metadata": {},
   "outputs": [],
   "source": [
    "np.save('C:\\\\Users\\\\dell\\\\Desktop\\\\dct\\\\gliomia_features.npy', feature)"
   ]
  },
  {
   "cell_type": "code",
   "execution_count": null,
   "metadata": {},
   "outputs": [],
   "source": []
  },
  {
   "cell_type": "code",
   "execution_count": 62,
   "metadata": {},
   "outputs": [],
   "source": [
    "# combining features of classes into one vector\n",
    "i = 0\n",
    "feature = np.empty((60,5120))\n",
    "dct = list(Path('C:\\\\Users\\\\dell\\\\Desktop\\\\dct').glob('*npy'))\n",
    "for vector in dct:\n",
    "    array = np.load(vector)\n",
    "    if i == 0:\n",
    "        feature = np.asarray(array)\n",
    "        i = i+1\n",
    "    else:\n",
    "        feature = np.append(feature, array, axis = 0)"
   ]
  },
  {
   "cell_type": "code",
   "execution_count": 25,
   "metadata": {},
   "outputs": [
    {
     "data": {
      "text/plain": [
       "(20, 1024)"
      ]
     },
     "execution_count": 25,
     "metadata": {},
     "output_type": "execute_result"
    }
   ],
   "source": [
    "np.load('dwt_gliomia.npy').shape"
   ]
  },
  {
   "cell_type": "code",
   "execution_count": null,
   "metadata": {},
   "outputs": [],
   "source": [
    "np.load()"
   ]
  },
  {
   "cell_type": "code",
   "execution_count": null,
   "metadata": {},
   "outputs": [],
   "source": []
  }
 ],
 "metadata": {
  "kernelspec": {
   "display_name": "Python 3",
   "language": "python",
   "name": "python3"
  },
  "language_info": {
   "codemirror_mode": {
    "name": "ipython",
    "version": 3
   },
   "file_extension": ".py",
   "mimetype": "text/x-python",
   "name": "python",
   "nbconvert_exporter": "python",
   "pygments_lexer": "ipython3",
   "version": "3.7.4"
  }
 },
 "nbformat": 4,
 "nbformat_minor": 4
}
